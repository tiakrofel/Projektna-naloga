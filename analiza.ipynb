{
 "cells": [
  {
   "cell_type": "markdown",
   "metadata": {},
   "source": [
    "# Najbolj priljubljene nenavadne destinacije po svetu"
   ]
  },
  {
   "cell_type": "code",
   "execution_count": 41,
   "metadata": {},
   "outputs": [],
   "source": [
    "import pandas as pd\n",
    "import matplotlib.pyplot as plt\n",
    "\n",
    "pd.options.display.max_rows = 10\n",
    "\n",
    "%matplotlib inline\n",
    "\n",
    "priljubljene = pd.read_csv('obdelani-podatki/priljubljene_destinacije.csv', index_col='id')\n",
    "lokacije = pd.read_csv('obdelani-podatki/lokacije.csv', index_col='lokacija')\n",
    "glasovi = pd.read_csv('obdelani-podatki/glasovi.csv', index_col='id')\n",
    "obiskane = pd.read_csv('obdelani-podatki/obiskane_destinacije.csv', index_col='id')"
   ]
  },
  {
   "cell_type": "markdown",
   "metadata": {},
   "source": [
    "V tej projektni nalogi bomo analizirali 10.000 najbolj priljubjenih nenavadnih destinacij na svetu, kot so objavljene na spletni strani Atlas Obscura. \n",
    "\n",
    "Za vsako izmed teh destinacij sem v eni tabeli zbrala ime destinacije, njeno lokacijo, zemljepisno širino in dolžino, kratek opis, povezavo do spletne strani ter uvrstitev na lestvici priljubljenosti. V posebni tabeli sem nato za vsako izmed teh 10.000 destinacij razčlenila njeno lokacijo na mesto in državo, kar je olajšalo nadaljno analizo, v še eni tabeli pa sem zbrala števila obiskovalcev spletne strani Atlas Obscura, ki so posamezno destinacijo bodisi že obiskali bodisi si jo obiskati še želijo. Nato sem si ogledala še 10.000 najbolj obiskanih destinacij z namenom primerjave seznamov priljubljenosti in obiskanosti v nadaljevanju."
   ]
  },
  {
   "cell_type": "markdown",
   "metadata": {},
   "source": [
    "## Razvrstitev po priljubljenosti"
   ]
  },
  {
   "cell_type": "markdown",
   "metadata": {},
   "source": [
    "Oglejmo si najprej podrobneje tabelo, ki vsebuje najbolj priljubljene destinacije."
   ]
  },
  {
   "cell_type": "code",
   "execution_count": 141,
   "metadata": {
    "scrolled": true
   },
   "outputs": [
    {
     "data": {
      "text/html": [
       "<div>\n",
       "<style scoped>\n",
       "    .dataframe tbody tr th:only-of-type {\n",
       "        vertical-align: middle;\n",
       "    }\n",
       "\n",
       "    .dataframe tbody tr th {\n",
       "        vertical-align: top;\n",
       "    }\n",
       "\n",
       "    .dataframe thead th {\n",
       "        text-align: right;\n",
       "    }\n",
       "</style>\n",
       "<table border=\"1\" class=\"dataframe\">\n",
       "  <thead>\n",
       "    <tr style=\"text-align: right;\">\n",
       "      <th></th>\n",
       "      <th>destinacija</th>\n",
       "      <th>lokacija</th>\n",
       "      <th>sirina</th>\n",
       "      <th>dolzina</th>\n",
       "      <th>opis</th>\n",
       "      <th>url</th>\n",
       "      <th>priljubljenost</th>\n",
       "    </tr>\n",
       "    <tr>\n",
       "      <th>id</th>\n",
       "      <th></th>\n",
       "      <th></th>\n",
       "      <th></th>\n",
       "      <th></th>\n",
       "      <th></th>\n",
       "      <th></th>\n",
       "      <th></th>\n",
       "    </tr>\n",
       "  </thead>\n",
       "  <tbody>\n",
       "    <tr>\n",
       "      <th>1212</th>\n",
       "      <td>City Hall Station</td>\n",
       "      <td>New York, New York</td>\n",
       "      <td>40.7134</td>\n",
       "      <td>-74.0046</td>\n",
       "      <td>A beautiful and abandoned New York subway stat...</td>\n",
       "      <td>https://www.atlasobscura.com/places/city-hall-...</td>\n",
       "      <td>1</td>\n",
       "    </tr>\n",
       "    <tr>\n",
       "      <th>1230</th>\n",
       "      <td>Highgate Cemetery</td>\n",
       "      <td>London, England</td>\n",
       "      <td>51.5675</td>\n",
       "      <td>-0.1483</td>\n",
       "      <td>London's creepiest cemetery was once the site ...</td>\n",
       "      <td>https://www.atlasobscura.com/places/highgate-c...</td>\n",
       "      <td>2</td>\n",
       "    </tr>\n",
       "    <tr>\n",
       "      <th>252</th>\n",
       "      <td>The Wave Organ</td>\n",
       "      <td>San Francisco, California</td>\n",
       "      <td>37.8085</td>\n",
       "      <td>-122.4401</td>\n",
       "      <td>A huge musical instrument played by the ocean.</td>\n",
       "      <td>https://www.atlasobscura.com/places/wave-organ</td>\n",
       "      <td>3</td>\n",
       "    </tr>\n",
       "    <tr>\n",
       "      <th>4334</th>\n",
       "      <td>Underground Tunnels of Los Angeles</td>\n",
       "      <td>Los Angeles, California</td>\n",
       "      <td>34.0558</td>\n",
       "      <td>-118.2447</td>\n",
       "      <td>During prohibition, corrupt city officials ran...</td>\n",
       "      <td>https://www.atlasobscura.com/places/undergroun...</td>\n",
       "      <td>4</td>\n",
       "    </tr>\n",
       "    <tr>\n",
       "      <th>404</th>\n",
       "      <td>Catacombes de Paris</td>\n",
       "      <td>Paris, France</td>\n",
       "      <td>48.8343</td>\n",
       "      <td>2.3322</td>\n",
       "      <td>The Catacombs hold secrets much stranger than ...</td>\n",
       "      <td>https://www.atlasobscura.com/places/catacombes...</td>\n",
       "      <td>5</td>\n",
       "    </tr>\n",
       "    <tr>\n",
       "      <th>...</th>\n",
       "      <td>...</td>\n",
       "      <td>...</td>\n",
       "      <td>...</td>\n",
       "      <td>...</td>\n",
       "      <td>...</td>\n",
       "      <td>...</td>\n",
       "      <td>...</td>\n",
       "    </tr>\n",
       "    <tr>\n",
       "      <th>24951</th>\n",
       "      <td>Expo '92 Grounds</td>\n",
       "      <td>Seville, Spain</td>\n",
       "      <td>37.4060</td>\n",
       "      <td>-6.0071</td>\n",
       "      <td>An eerie collection of the surviving structure...</td>\n",
       "      <td>https://www.atlasobscura.com/places/expo-92-gr...</td>\n",
       "      <td>10004</td>\n",
       "    </tr>\n",
       "    <tr>\n",
       "      <th>24568</th>\n",
       "      <td>Wild Bird Fund</td>\n",
       "      <td>New York, New York</td>\n",
       "      <td>40.7873</td>\n",
       "      <td>-73.9713</td>\n",
       "      <td>New York City's only wildlife rehabilitation c...</td>\n",
       "      <td>https://www.atlasobscura.com/places/wild-bird-...</td>\n",
       "      <td>10005</td>\n",
       "    </tr>\n",
       "    <tr>\n",
       "      <th>19852</th>\n",
       "      <td>Sheldon Peck Homestead</td>\n",
       "      <td>Lombard, Illinois</td>\n",
       "      <td>41.8891</td>\n",
       "      <td>-88.0092</td>\n",
       "      <td>People escaping slavery passed through the old...</td>\n",
       "      <td>https://www.atlasobscura.com/places/peck-homes...</td>\n",
       "      <td>10006</td>\n",
       "    </tr>\n",
       "    <tr>\n",
       "      <th>24047</th>\n",
       "      <td>Soviet Dacha</td>\n",
       "      <td>Moscow, Russia</td>\n",
       "      <td>55.5226</td>\n",
       "      <td>37.4916</td>\n",
       "      <td>This frozen-in-time summer home outside Moscow...</td>\n",
       "      <td>https://www.atlasobscura.com/places/soviet-dacha</td>\n",
       "      <td>10007</td>\n",
       "    </tr>\n",
       "    <tr>\n",
       "      <th>23071</th>\n",
       "      <td>Sam Maloof House</td>\n",
       "      <td>Rancho Cucamonga, California</td>\n",
       "      <td>34.1613</td>\n",
       "      <td>-117.6158</td>\n",
       "      <td>A living museum dedicated to the legendary woo...</td>\n",
       "      <td>https://www.atlasobscura.com/places/sam-maloof...</td>\n",
       "      <td>10008</td>\n",
       "    </tr>\n",
       "  </tbody>\n",
       "</table>\n",
       "<p>10008 rows × 7 columns</p>\n",
       "</div>"
      ],
      "text/plain": [
       "                              destinacija                      lokacija  \\\n",
       "id                                                                        \n",
       "1212                    City Hall Station            New York, New York   \n",
       "1230                    Highgate Cemetery               London, England   \n",
       "252                        The Wave Organ     San Francisco, California   \n",
       "4334   Underground Tunnels of Los Angeles       Los Angeles, California   \n",
       "404                   Catacombes de Paris                 Paris, France   \n",
       "...                                   ...                           ...   \n",
       "24951                    Expo '92 Grounds                Seville, Spain   \n",
       "24568                      Wild Bird Fund            New York, New York   \n",
       "19852              Sheldon Peck Homestead             Lombard, Illinois   \n",
       "24047                        Soviet Dacha                Moscow, Russia   \n",
       "23071                    Sam Maloof House  Rancho Cucamonga, California   \n",
       "\n",
       "        sirina   dolzina                                               opis  \\\n",
       "id                                                                            \n",
       "1212   40.7134  -74.0046  A beautiful and abandoned New York subway stat...   \n",
       "1230   51.5675   -0.1483  London's creepiest cemetery was once the site ...   \n",
       "252    37.8085 -122.4401     A huge musical instrument played by the ocean.   \n",
       "4334   34.0558 -118.2447  During prohibition, corrupt city officials ran...   \n",
       "404    48.8343    2.3322  The Catacombs hold secrets much stranger than ...   \n",
       "...        ...       ...                                                ...   \n",
       "24951  37.4060   -6.0071  An eerie collection of the surviving structure...   \n",
       "24568  40.7873  -73.9713  New York City's only wildlife rehabilitation c...   \n",
       "19852  41.8891  -88.0092  People escaping slavery passed through the old...   \n",
       "24047  55.5226   37.4916  This frozen-in-time summer home outside Moscow...   \n",
       "23071  34.1613 -117.6158  A living museum dedicated to the legendary woo...   \n",
       "\n",
       "                                                     url  priljubljenost  \n",
       "id                                                                        \n",
       "1212   https://www.atlasobscura.com/places/city-hall-...               1  \n",
       "1230   https://www.atlasobscura.com/places/highgate-c...               2  \n",
       "252       https://www.atlasobscura.com/places/wave-organ               3  \n",
       "4334   https://www.atlasobscura.com/places/undergroun...               4  \n",
       "404    https://www.atlasobscura.com/places/catacombes...               5  \n",
       "...                                                  ...             ...  \n",
       "24951  https://www.atlasobscura.com/places/expo-92-gr...           10004  \n",
       "24568  https://www.atlasobscura.com/places/wild-bird-...           10005  \n",
       "19852  https://www.atlasobscura.com/places/peck-homes...           10006  \n",
       "24047   https://www.atlasobscura.com/places/soviet-dacha           10007  \n",
       "23071  https://www.atlasobscura.com/places/sam-maloof...           10008  \n",
       "\n",
       "[10008 rows x 7 columns]"
      ]
     },
     "execution_count": 141,
     "metadata": {},
     "output_type": "execute_result"
    }
   ],
   "source": [
    "priljubljene"
   ]
  },
  {
   "cell_type": "markdown",
   "metadata": {},
   "source": [
    "### Lokacije najbolj priljubljenih destinacij"
   ]
  },
  {
   "cell_type": "markdown",
   "metadata": {},
   "source": [
    "Najprej nas je zanimalo, na katerih lokacijah se nahaja največ nenavadnih priljubljenih destinacij. Na spodnjem grafu lahko vidimo, da so najbolj skoncentirane v New Yorku, tam jih je kar 279. Sledi London z 260 destinacijami, potem pa lahko opazimo, da izmed prvih desetih sedem mest zasedajo lokacije v ZDA. To je po vsej verjetnosti posledica pretežno ameriškega obiska spletne strani, ki iz ZDA tudi izvira."
   ]
  },
  {
   "cell_type": "code",
   "execution_count": 135,
   "metadata": {},
   "outputs": [
    {
     "data": {
      "text/plain": [
       "Text(0.5, 1.0, 'Lokacije najbolj priljubljenih destinacij')"
      ]
     },
     "execution_count": 135,
     "metadata": {},
     "output_type": "execute_result"
    },
    {
     "data": {
      "image/png": "[encoded data removed]",
      "text/plain": [
       "<Figure size 432x288 with 1 Axes>"
      ]
     },
     "metadata": {
      "needs_background": "light"
     },
     "output_type": "display_data"
    }
   ],
   "source": [
    "po_lokacijah = priljubljene.groupby('lokacija').size()\n",
    "\n",
    "prvih_deset_loc = po_lokacijah.sort_values(ascending=False).head(10)\n",
    "\n",
    "prvih_deset_loc.plot.bar(xlabel = 'Lokacija', color='pink').set_title('Lokacije najbolj priljubljenih destinacij')"
   ]
  },
  {
   "cell_type": "markdown",
   "metadata": {},
   "source": [
    "Obenem so mesta kot na primer New York, London, Los Angeles in Pariz, če jih naštejemo le nekaj, zelo velika, kar pomeni, da se tam lahko skriva veliko več obskurnih destinacij kot v manjših mestecih - če si spodaj ogledamo še nekaj mest, kjer se nahaja le ena izmed prvih 10.000 najbolj priljubljenih nenavadnih destinacij, opazimo, da gre res za veliko manj znane in občutno manjše kraje."
   ]
  },
  {
   "cell_type": "code",
   "execution_count": 32,
   "metadata": {},
   "outputs": [
    {
     "data": {
      "text/plain": [
       "lokacija\n",
       "Hinckley, Ohio             1\n",
       "Hinckley, Utah             1\n",
       "Hinsdale, New Hampshire    1\n",
       "Hinterbrühl, Austria       1\n",
       "Șinca, Romania             1\n",
       "dtype: int64"
      ]
     },
     "execution_count": 32,
     "metadata": {},
     "output_type": "execute_result"
    }
   ],
   "source": [
    "po_lokacijah.sort_values(ascending=False).tail()"
   ]
  },
  {
   "cell_type": "markdown",
   "metadata": {},
   "source": [
    "Poleg samih imen lokacij priljubljenih destinacij pa so v naši tabeli shranjene tudi njihove geografske koordinate - oglejmo si podrobneje še slednje. "
   ]
  },
  {
   "cell_type": "code",
   "execution_count": 33,
   "metadata": {},
   "outputs": [
    {
     "data": {
      "text/plain": [
       "Text(0.5, 1.0, 'Koordinate najbolj priljubljenih destinacij')"
      ]
     },
     "execution_count": 33,
     "metadata": {},
     "output_type": "execute_result"
    },
    {
     "data": {
      "image/png": "[encoded data removed]",
      "text/plain": [
       "<Figure size 432x288 with 1 Axes>"
      ]
     },
     "metadata": {
      "needs_background": "light"
     },
     "output_type": "display_data"
    }
   ],
   "source": [
    "priljubljene.plot.scatter(x='dolzina', y='sirina', color='pink', xlabel='Zemljepisna dolžina', ylabel='Zemljepisna širina').set_title(\"Koordinate najbolj priljubljenih destinacij\")"
   ]
  },
  {
   "cell_type": "markdown",
   "metadata": {},
   "source": [
    "Na zgornjem grafu lahko vidimo..."
   ]
  },
  {
   "cell_type": "markdown",
   "metadata": {},
   "source": [
    "### Države najbolj priljubljenih destinacij"
   ]
  },
  {
   "cell_type": "markdown",
   "metadata": {},
   "source": [
    "Če smo si v prejšnjem razdelku ogledali, na katerih lokacijah (tj. mestih in zemljepisnih koordinatah) se nahaja največ priljubljenih destinacij, nas sedaj zanima še, katere države se pojavijo med prvimi 10.000 najbolj priljubljenimi destinacijami - in koliko različnih mest iz posameznih držav je na tem seznamu izpostavljenih. S tem namenom si oglejmo posebno tabelo, kjer je vsaka unikatna lokacija razdeljena na mesto in državo."
   ]
  },
  {
   "cell_type": "code",
   "execution_count": 34,
   "metadata": {},
   "outputs": [
    {
     "data": {
      "text/html": [
       "<div>\n",
       "<style scoped>\n",
       "    .dataframe tbody tr th:only-of-type {\n",
       "        vertical-align: middle;\n",
       "    }\n",
       "\n",
       "    .dataframe tbody tr th {\n",
       "        vertical-align: top;\n",
       "    }\n",
       "\n",
       "    .dataframe thead th {\n",
       "        text-align: right;\n",
       "    }\n",
       "</style>\n",
       "<table border=\"1\" class=\"dataframe\">\n",
       "  <thead>\n",
       "    <tr style=\"text-align: right;\">\n",
       "      <th></th>\n",
       "      <th>lokacija</th>\n",
       "      <th>mesto</th>\n",
       "      <th>drzava</th>\n",
       "    </tr>\n",
       "  </thead>\n",
       "  <tbody>\n",
       "    <tr>\n",
       "      <th>0</th>\n",
       "      <td>'s-Hertogenbosch, Netherlands</td>\n",
       "      <td>'s-Hertogenbosch</td>\n",
       "      <td>Netherlands</td>\n",
       "    </tr>\n",
       "    <tr>\n",
       "      <th>1</th>\n",
       "      <td>A Coruña, Spain</td>\n",
       "      <td>A Coruña</td>\n",
       "      <td>Spain</td>\n",
       "    </tr>\n",
       "    <tr>\n",
       "      <th>2</th>\n",
       "      <td>Aarhus, Denmark</td>\n",
       "      <td>Aarhus</td>\n",
       "      <td>Denmark</td>\n",
       "    </tr>\n",
       "    <tr>\n",
       "      <th>3</th>\n",
       "      <td>Aba, China</td>\n",
       "      <td>Aba</td>\n",
       "      <td>China</td>\n",
       "    </tr>\n",
       "    <tr>\n",
       "      <th>4</th>\n",
       "      <td>Abang, Indonesia</td>\n",
       "      <td>Abang</td>\n",
       "      <td>Indonesia</td>\n",
       "    </tr>\n",
       "    <tr>\n",
       "      <th>...</th>\n",
       "      <td>...</td>\n",
       "      <td>...</td>\n",
       "      <td>...</td>\n",
       "    </tr>\n",
       "    <tr>\n",
       "      <th>5227</th>\n",
       "      <td>Yogyakarta, Indonesia</td>\n",
       "      <td>Yogyakarta</td>\n",
       "      <td>Indonesia</td>\n",
       "    </tr>\n",
       "    <tr>\n",
       "      <th>5228</th>\n",
       "      <td>Zanzibar, Tanzania</td>\n",
       "      <td>Zanzibar</td>\n",
       "      <td>Tanzania</td>\n",
       "    </tr>\n",
       "    <tr>\n",
       "      <th>5229</th>\n",
       "      <td>Zavikon Island, Ontario</td>\n",
       "      <td>Zavikon Island</td>\n",
       "      <td>Canada</td>\n",
       "    </tr>\n",
       "    <tr>\n",
       "      <th>5230</th>\n",
       "      <td>Čapljina, Bosnia and Herzegovina</td>\n",
       "      <td>Čapljina</td>\n",
       "      <td>Bosnia and Herzegovina</td>\n",
       "    </tr>\n",
       "    <tr>\n",
       "      <th>5231</th>\n",
       "      <td>Český Krumlov, Czechia</td>\n",
       "      <td>Český Krumlov</td>\n",
       "      <td>Czechia</td>\n",
       "    </tr>\n",
       "  </tbody>\n",
       "</table>\n",
       "<p>5232 rows × 3 columns</p>\n",
       "</div>"
      ],
      "text/plain": [
       "                              lokacija             mesto  \\\n",
       "0        's-Hertogenbosch, Netherlands  's-Hertogenbosch   \n",
       "1                      A Coruña, Spain          A Coruña   \n",
       "2                      Aarhus, Denmark            Aarhus   \n",
       "3                           Aba, China               Aba   \n",
       "4                     Abang, Indonesia             Abang   \n",
       "...                                ...               ...   \n",
       "5227             Yogyakarta, Indonesia        Yogyakarta   \n",
       "5228                Zanzibar, Tanzania          Zanzibar   \n",
       "5229           Zavikon Island, Ontario    Zavikon Island   \n",
       "5230  Čapljina, Bosnia and Herzegovina          Čapljina   \n",
       "5231            Český Krumlov, Czechia     Český Krumlov   \n",
       "\n",
       "                      drzava  \n",
       "0                Netherlands  \n",
       "1                      Spain  \n",
       "2                    Denmark  \n",
       "3                      China  \n",
       "4                  Indonesia  \n",
       "...                      ...  \n",
       "5227               Indonesia  \n",
       "5228                Tanzania  \n",
       "5229                  Canada  \n",
       "5230  Bosnia and Herzegovina  \n",
       "5231                 Czechia  \n",
       "\n",
       "[5232 rows x 3 columns]"
      ]
     },
     "execution_count": 34,
     "metadata": {},
     "output_type": "execute_result"
    }
   ],
   "source": [
    "lokacije"
   ]
  },
  {
   "cell_type": "code",
   "execution_count": 134,
   "metadata": {},
   "outputs": [
    {
     "data": {
      "text/plain": [
       "Text(0.5, 1.0, 'Države najbolj priljubljenih destinacij')"
      ]
     },
     "execution_count": 134,
     "metadata": {},
     "output_type": "execute_result"
    },
    {
     "data": {
      "image/png": "[encoded data removed]",
      "text/plain": [
       "<Figure size 432x288 with 1 Axes>"
      ]
     },
     "metadata": {
      "needs_background": "light"
     },
     "output_type": "display_data"
    }
   ],
   "source": [
    "po_drzavah = lokacije.groupby('drzava').size()\n",
    "\n",
    "prvih_deset = po_drzavah.sort_values(ascending=False).head(10)\n",
    "\n",
    "prvih_deset.plot.bar(xlabel = 'Država', color='pink').set_title('Države najbolj priljubljenih destinacij')"
   ]
  },
  {
   "cell_type": "markdown",
   "metadata": {},
   "source": [
    "Tudi brez upoštevanja ponovitev posameznih lokacij je na podlagi zgornje tabele in grafičnega prikaza jasno, da je daleč največ izpostavljenih lokacij iz ZDA, in sicer kar dobra četrtina, sledita pa ji prav tako angleško govoreče Združeno kraljestvo in Kanada. Vzrok za to lahko zopet najdemo v dejstvu, da gre za ameriško spletno stran, katere obiskovalci skoraj gotovo govorijo angleško."
   ]
  },
  {
   "cell_type": "markdown",
   "metadata": {},
   "source": [
    "### Razvrstitev po obiskanosti"
   ]
  },
  {
   "cell_type": "markdown",
   "metadata": {},
   "source": [
    "Poleg najbolj priljubljenih smo zbrali tudi podatke za 10.000 najbolj *obiskanih* destinacij."
   ]
  },
  {
   "cell_type": "code",
   "execution_count": 36,
   "metadata": {},
   "outputs": [
    {
     "data": {
      "text/html": [
       "<div>\n",
       "<style scoped>\n",
       "    .dataframe tbody tr th:only-of-type {\n",
       "        vertical-align: middle;\n",
       "    }\n",
       "\n",
       "    .dataframe tbody tr th {\n",
       "        vertical-align: top;\n",
       "    }\n",
       "\n",
       "    .dataframe thead th {\n",
       "        text-align: right;\n",
       "    }\n",
       "</style>\n",
       "<table border=\"1\" class=\"dataframe\">\n",
       "  <thead>\n",
       "    <tr style=\"text-align: right;\">\n",
       "      <th></th>\n",
       "      <th>id</th>\n",
       "      <th>destinacija</th>\n",
       "      <th>lokacija</th>\n",
       "      <th>sirina</th>\n",
       "      <th>dolzina</th>\n",
       "      <th>opis</th>\n",
       "      <th>url</th>\n",
       "      <th>obiskanost</th>\n",
       "    </tr>\n",
       "  </thead>\n",
       "  <tbody>\n",
       "    <tr>\n",
       "      <th>0</th>\n",
       "      <td>2997</td>\n",
       "      <td>Alcatraz Island</td>\n",
       "      <td>San Francisco, California</td>\n",
       "      <td>37.8267</td>\n",
       "      <td>-122.4230</td>\n",
       "      <td>In all of the 29 years it was in operation, no...</td>\n",
       "      <td>https://www.atlasobscura.com/places/alcatraz-i...</td>\n",
       "      <td>1</td>\n",
       "    </tr>\n",
       "    <tr>\n",
       "      <th>1</th>\n",
       "      <td>642</td>\n",
       "      <td>The High Line</td>\n",
       "      <td>New York, New York</td>\n",
       "      <td>40.7392</td>\n",
       "      <td>-74.0083</td>\n",
       "      <td>Elevated freight railway turned wildly success...</td>\n",
       "      <td>https://www.atlasobscura.com/places/highline</td>\n",
       "      <td>2</td>\n",
       "    </tr>\n",
       "    <tr>\n",
       "      <th>2</th>\n",
       "      <td>8651</td>\n",
       "      <td>Sagrada Família</td>\n",
       "      <td>Barcelona, Spain</td>\n",
       "      <td>41.4036</td>\n",
       "      <td>2.1744</td>\n",
       "      <td>Construction of Barcelona's iconic (but contro...</td>\n",
       "      <td>https://www.atlasobscura.com/places/sagrada-fa...</td>\n",
       "      <td>3</td>\n",
       "    </tr>\n",
       "    <tr>\n",
       "      <th>3</th>\n",
       "      <td>139</td>\n",
       "      <td>Prague Astronomical Clock</td>\n",
       "      <td>Prague, Czechia</td>\n",
       "      <td>50.0870</td>\n",
       "      <td>14.4208</td>\n",
       "      <td>Macabre astrological automaton clock dating to...</td>\n",
       "      <td>https://www.atlasobscura.com/places/prague-ast...</td>\n",
       "      <td>4</td>\n",
       "    </tr>\n",
       "    <tr>\n",
       "      <th>4</th>\n",
       "      <td>5074</td>\n",
       "      <td>Faneuil Hall</td>\n",
       "      <td>Boston, Massachusetts</td>\n",
       "      <td>42.3600</td>\n",
       "      <td>-71.0562</td>\n",
       "      <td>A former waterfront market is now in the cente...</td>\n",
       "      <td>https://www.atlasobscura.com/places/faneuil-hall</td>\n",
       "      <td>5</td>\n",
       "    </tr>\n",
       "    <tr>\n",
       "      <th>...</th>\n",
       "      <td>...</td>\n",
       "      <td>...</td>\n",
       "      <td>...</td>\n",
       "      <td>...</td>\n",
       "      <td>...</td>\n",
       "      <td>...</td>\n",
       "      <td>...</td>\n",
       "      <td>...</td>\n",
       "    </tr>\n",
       "    <tr>\n",
       "      <th>10003</th>\n",
       "      <td>16029</td>\n",
       "      <td>Clara Glen Pet Cemetery</td>\n",
       "      <td>Linwood, New Jersey</td>\n",
       "      <td>39.3319</td>\n",
       "      <td>-74.5829</td>\n",
       "      <td>This quaint New Jersey graveyard is an eternal...</td>\n",
       "      <td>https://www.atlasobscura.com/places/clara-glen...</td>\n",
       "      <td>10004</td>\n",
       "    </tr>\n",
       "    <tr>\n",
       "      <th>10004</th>\n",
       "      <td>15575</td>\n",
       "      <td>Gennett Walk of Fame</td>\n",
       "      <td>Richmond, Indiana</td>\n",
       "      <td>39.8267</td>\n",
       "      <td>-84.9000</td>\n",
       "      <td>This Indiana walk of fame honors music legends...</td>\n",
       "      <td>https://www.atlasobscura.com/places/gennett-wa...</td>\n",
       "      <td>10005</td>\n",
       "    </tr>\n",
       "    <tr>\n",
       "      <th>10005</th>\n",
       "      <td>12525</td>\n",
       "      <td>Statue of Michael Jackson</td>\n",
       "      <td>Manchester, England</td>\n",
       "      <td>53.4859</td>\n",
       "      <td>-2.2422</td>\n",
       "      <td>Fulham F.C. imploded once everyone excised its...</td>\n",
       "      <td>https://www.atlasobscura.com/places/statue-of-...</td>\n",
       "      <td>10006</td>\n",
       "    </tr>\n",
       "    <tr>\n",
       "      <th>10006</th>\n",
       "      <td>15231</td>\n",
       "      <td>Bungle Bungle Range</td>\n",
       "      <td>Purnululu, Australia</td>\n",
       "      <td>-17.5298</td>\n",
       "      <td>128.4008</td>\n",
       "      <td>These Australian rock formations look like Mar...</td>\n",
       "      <td>https://www.atlasobscura.com/places/bungle-bun...</td>\n",
       "      <td>10007</td>\n",
       "    </tr>\n",
       "    <tr>\n",
       "      <th>10007</th>\n",
       "      <td>15153</td>\n",
       "      <td>Kastrup Sea Bath</td>\n",
       "      <td>Kastrup, Denmark</td>\n",
       "      <td>55.6453</td>\n",
       "      <td>12.6494</td>\n",
       "      <td>This ultra-modern wooden boardwalk turns the o...</td>\n",
       "      <td>https://www.atlasobscura.com/places/kastrup-se...</td>\n",
       "      <td>10008</td>\n",
       "    </tr>\n",
       "  </tbody>\n",
       "</table>\n",
       "<p>10008 rows × 8 columns</p>\n",
       "</div>"
      ],
      "text/plain": [
       "          id                 destinacija                   lokacija   sirina  \\\n",
       "0       2997             Alcatraz Island  San Francisco, California  37.8267   \n",
       "1        642               The High Line         New York, New York  40.7392   \n",
       "2       8651             Sagrada Família           Barcelona, Spain  41.4036   \n",
       "3        139  Prague Astronomical Clock             Prague, Czechia  50.0870   \n",
       "4       5074                Faneuil Hall      Boston, Massachusetts  42.3600   \n",
       "...      ...                         ...                        ...      ...   \n",
       "10003  16029     Clara Glen Pet Cemetery        Linwood, New Jersey  39.3319   \n",
       "10004  15575        Gennett Walk of Fame          Richmond, Indiana  39.8267   \n",
       "10005  12525   Statue of Michael Jackson        Manchester, England  53.4859   \n",
       "10006  15231         Bungle Bungle Range       Purnululu, Australia -17.5298   \n",
       "10007  15153            Kastrup Sea Bath           Kastrup, Denmark  55.6453   \n",
       "\n",
       "        dolzina                                               opis  \\\n",
       "0     -122.4230  In all of the 29 years it was in operation, no...   \n",
       "1      -74.0083  Elevated freight railway turned wildly success...   \n",
       "2        2.1744  Construction of Barcelona's iconic (but contro...   \n",
       "3       14.4208  Macabre astrological automaton clock dating to...   \n",
       "4      -71.0562  A former waterfront market is now in the cente...   \n",
       "...         ...                                                ...   \n",
       "10003  -74.5829  This quaint New Jersey graveyard is an eternal...   \n",
       "10004  -84.9000  This Indiana walk of fame honors music legends...   \n",
       "10005   -2.2422  Fulham F.C. imploded once everyone excised its...   \n",
       "10006  128.4008  These Australian rock formations look like Mar...   \n",
       "10007   12.6494  This ultra-modern wooden boardwalk turns the o...   \n",
       "\n",
       "                                                     url  obiskanost  \n",
       "0      https://www.atlasobscura.com/places/alcatraz-i...           1  \n",
       "1           https://www.atlasobscura.com/places/highline           2  \n",
       "2      https://www.atlasobscura.com/places/sagrada-fa...           3  \n",
       "3      https://www.atlasobscura.com/places/prague-ast...           4  \n",
       "4       https://www.atlasobscura.com/places/faneuil-hall           5  \n",
       "...                                                  ...         ...  \n",
       "10003  https://www.atlasobscura.com/places/clara-glen...       10004  \n",
       "10004  https://www.atlasobscura.com/places/gennett-wa...       10005  \n",
       "10005  https://www.atlasobscura.com/places/statue-of-...       10006  \n",
       "10006  https://www.atlasobscura.com/places/bungle-bun...       10007  \n",
       "10007  https://www.atlasobscura.com/places/kastrup-se...       10008  \n",
       "\n",
       "[10008 rows x 8 columns]"
      ]
     },
     "execution_count": 36,
     "metadata": {},
     "output_type": "execute_result"
    }
   ],
   "source": [
    "obiskane"
   ]
  },
  {
   "cell_type": "markdown",
   "metadata": {},
   "source": [
    "Če si ogledamo, kje približno se nahajajo slednje, lahko vidimo, da je njihova razporeditev po svetu izrazito podobna razporeditvi najbolj priljubljenih destinacij."
   ]
  },
  {
   "cell_type": "code",
   "execution_count": 37,
   "metadata": {},
   "outputs": [
    {
     "data": {
      "text/plain": [
       "Text(0.5, 1.0, 'Koordinate najbolj obiskanih destinacij')"
      ]
     },
     "execution_count": 37,
     "metadata": {},
     "output_type": "execute_result"
    },
    {
     "data": {
      "image/png": "[encoded data removed]",
      "text/plain": [
       "<Figure size 432x288 with 1 Axes>"
      ]
     },
     "metadata": {
      "needs_background": "light"
     },
     "output_type": "display_data"
    }
   ],
   "source": [
    "obiskane.plot.scatter(x='dolzina', y='sirina', color='lightblue', xlabel='Zemljepisna dolžina', ylabel='Zemljepisna širina').set_title(\"Koordinate najbolj obiskanih destinacij\")"
   ]
  },
  {
   "cell_type": "markdown",
   "metadata": {},
   "source": [
    "Vendar pa kljub temu ne gre za povsem enake destinacije."
   ]
  },
  {
   "cell_type": "code",
   "execution_count": 104,
   "metadata": {},
   "outputs": [
    {
     "data": {
      "text/html": [
       "<div>\n",
       "<style scoped>\n",
       "    .dataframe tbody tr th:only-of-type {\n",
       "        vertical-align: middle;\n",
       "    }\n",
       "\n",
       "    .dataframe tbody tr th {\n",
       "        vertical-align: top;\n",
       "    }\n",
       "\n",
       "    .dataframe thead th {\n",
       "        text-align: right;\n",
       "    }\n",
       "</style>\n",
       "<table border=\"1\" class=\"dataframe\">\n",
       "  <thead>\n",
       "    <tr style=\"text-align: right;\">\n",
       "      <th></th>\n",
       "      <th>destinacija</th>\n",
       "      <th>priljubljenost</th>\n",
       "      <th>obiskanost</th>\n",
       "      <th>obiskali</th>\n",
       "      <th>zelijo</th>\n",
       "    </tr>\n",
       "    <tr>\n",
       "      <th>id</th>\n",
       "      <th></th>\n",
       "      <th></th>\n",
       "      <th></th>\n",
       "      <th></th>\n",
       "      <th></th>\n",
       "    </tr>\n",
       "  </thead>\n",
       "  <tbody>\n",
       "    <tr>\n",
       "      <th>32259</th>\n",
       "      <td>Luna de Xelajú</td>\n",
       "      <td>9999</td>\n",
       "      <td>NaN</td>\n",
       "      <td>39</td>\n",
       "      <td>233</td>\n",
       "    </tr>\n",
       "    <tr>\n",
       "      <th>31482</th>\n",
       "      <td>The Labirinto della Masone</td>\n",
       "      <td>10000</td>\n",
       "      <td>NaN</td>\n",
       "      <td>31</td>\n",
       "      <td>234</td>\n",
       "    </tr>\n",
       "    <tr>\n",
       "      <th>29538</th>\n",
       "      <td>Rocky Valley Labyrinths</td>\n",
       "      <td>10001</td>\n",
       "      <td>NaN</td>\n",
       "      <td>39</td>\n",
       "      <td>233</td>\n",
       "    </tr>\n",
       "    <tr>\n",
       "      <th>27183</th>\n",
       "      <td>Ehrenberg Pioneer Cemetery</td>\n",
       "      <td>10002</td>\n",
       "      <td>NaN</td>\n",
       "      <td>49</td>\n",
       "      <td>233</td>\n",
       "    </tr>\n",
       "    <tr>\n",
       "      <th>23255</th>\n",
       "      <td>John Wesley Hardin's Grave</td>\n",
       "      <td>10003</td>\n",
       "      <td>9981.0</td>\n",
       "      <td>83</td>\n",
       "      <td>235</td>\n",
       "    </tr>\n",
       "    <tr>\n",
       "      <th>24951</th>\n",
       "      <td>Expo '92 Grounds</td>\n",
       "      <td>10004</td>\n",
       "      <td>6598.0</td>\n",
       "      <td>137</td>\n",
       "      <td>236</td>\n",
       "    </tr>\n",
       "    <tr>\n",
       "      <th>24568</th>\n",
       "      <td>Wild Bird Fund</td>\n",
       "      <td>10005</td>\n",
       "      <td>9259.0</td>\n",
       "      <td>89</td>\n",
       "      <td>234</td>\n",
       "    </tr>\n",
       "    <tr>\n",
       "      <th>19852</th>\n",
       "      <td>Sheldon Peck Homestead</td>\n",
       "      <td>10006</td>\n",
       "      <td>NaN</td>\n",
       "      <td>76</td>\n",
       "      <td>234</td>\n",
       "    </tr>\n",
       "    <tr>\n",
       "      <th>24047</th>\n",
       "      <td>Soviet Dacha</td>\n",
       "      <td>10007</td>\n",
       "      <td>NaN</td>\n",
       "      <td>51</td>\n",
       "      <td>233</td>\n",
       "    </tr>\n",
       "    <tr>\n",
       "      <th>23071</th>\n",
       "      <td>Sam Maloof House</td>\n",
       "      <td>10008</td>\n",
       "      <td>NaN</td>\n",
       "      <td>50</td>\n",
       "      <td>233</td>\n",
       "    </tr>\n",
       "  </tbody>\n",
       "</table>\n",
       "</div>"
      ],
      "text/plain": [
       "                      destinacija  priljubljenost  obiskanost  obiskali  \\\n",
       "id                                                                        \n",
       "32259              Luna de Xelajú            9999         NaN        39   \n",
       "31482  The Labirinto della Masone           10000         NaN        31   \n",
       "29538     Rocky Valley Labyrinths           10001         NaN        39   \n",
       "27183  Ehrenberg Pioneer Cemetery           10002         NaN        49   \n",
       "23255  John Wesley Hardin's Grave           10003      9981.0        83   \n",
       "24951            Expo '92 Grounds           10004      6598.0       137   \n",
       "24568              Wild Bird Fund           10005      9259.0        89   \n",
       "19852      Sheldon Peck Homestead           10006         NaN        76   \n",
       "24047                Soviet Dacha           10007         NaN        51   \n",
       "23071            Sam Maloof House           10008         NaN        50   \n",
       "\n",
       "       zelijo  \n",
       "id             \n",
       "32259     233  \n",
       "31482     234  \n",
       "29538     233  \n",
       "27183     233  \n",
       "23255     235  \n",
       "24951     236  \n",
       "24568     234  \n",
       "19852     234  \n",
       "24047     233  \n",
       "23071     233  "
      ]
     },
     "execution_count": 104,
     "metadata": {},
     "output_type": "execute_result"
    }
   ],
   "source": [
    "podtabela_priljubljene = priljubljene[['destinacija', 'priljubljenost']]\n",
    "podtabela_obiskane = obiskane[['obiskanost']]\n",
    "\n",
    "priljubljenost_in_obiskanost = pd.merge(pd.merge(podtabela_priljubljene, podtabela_obiskane, on='id', how='left'), glasovi, on='id')\n",
    "\n",
    "priljubljenost_in_obiskanost.tail(10)"
   ]
  },
  {
   "cell_type": "code",
   "execution_count": 97,
   "metadata": {},
   "outputs": [
    {
     "data": {
      "text/plain": [
       "2441"
      ]
     },
     "execution_count": 97,
     "metadata": {},
     "output_type": "execute_result"
    }
   ],
   "source": [
    "priljubljenost_in_obiskanost[priljubljenost_in_obiskanost.obiskanost.isna()].shape[0]"
   ]
  },
  {
   "cell_type": "markdown",
   "metadata": {},
   "source": [
    "Če vsem destinacijam, ki se nahajajo na seznamu 10.000 najbolj priljubljenih, pridružimo uvrstitev na lestvici obiskanosti in tabelo z glasovi, opazimo, da 2441 izmed najbolj priljubljenih ni med \n",
    "10.000 najbolj obiskanimi - oglejmo si, kakšna je splošna medsebojna odvisnost med uvrstitvami na omenjenih seznamih (tukaj bomo opazovali le tiste destinacije, ki se pojavljajo na obeh seznamih, torej izvzemši omenjenih 2441)."
   ]
  },
  {
   "cell_type": "code",
   "execution_count": 125,
   "metadata": {},
   "outputs": [
    {
     "data": {
      "text/html": [
       "<div>\n",
       "<style scoped>\n",
       "    .dataframe tbody tr th:only-of-type {\n",
       "        vertical-align: middle;\n",
       "    }\n",
       "\n",
       "    .dataframe tbody tr th {\n",
       "        vertical-align: top;\n",
       "    }\n",
       "\n",
       "    .dataframe thead th {\n",
       "        text-align: right;\n",
       "    }\n",
       "</style>\n",
       "<table border=\"1\" class=\"dataframe\">\n",
       "  <thead>\n",
       "    <tr style=\"text-align: right;\">\n",
       "      <th></th>\n",
       "      <th>destinacija</th>\n",
       "      <th>priljubljenost</th>\n",
       "      <th>obiskanost</th>\n",
       "      <th>obiskali</th>\n",
       "      <th>zelijo</th>\n",
       "      <th>razlike</th>\n",
       "      <th>razmerja</th>\n",
       "    </tr>\n",
       "    <tr>\n",
       "      <th>id</th>\n",
       "      <th></th>\n",
       "      <th></th>\n",
       "      <th></th>\n",
       "      <th></th>\n",
       "      <th></th>\n",
       "      <th></th>\n",
       "      <th></th>\n",
       "    </tr>\n",
       "  </thead>\n",
       "  <tbody>\n",
       "    <tr>\n",
       "      <th>1212</th>\n",
       "      <td>City Hall Station</td>\n",
       "      <td>1</td>\n",
       "      <td>221</td>\n",
       "      <td>1465</td>\n",
       "      <td>7149</td>\n",
       "      <td>5684</td>\n",
       "      <td>4.879863</td>\n",
       "    </tr>\n",
       "    <tr>\n",
       "      <th>1230</th>\n",
       "      <td>Highgate Cemetery</td>\n",
       "      <td>2</td>\n",
       "      <td>90</td>\n",
       "      <td>2129</td>\n",
       "      <td>6691</td>\n",
       "      <td>4562</td>\n",
       "      <td>3.142790</td>\n",
       "    </tr>\n",
       "    <tr>\n",
       "      <th>252</th>\n",
       "      <td>The Wave Organ</td>\n",
       "      <td>3</td>\n",
       "      <td>112</td>\n",
       "      <td>2011</td>\n",
       "      <td>6393</td>\n",
       "      <td>4382</td>\n",
       "      <td>3.179015</td>\n",
       "    </tr>\n",
       "    <tr>\n",
       "      <th>4334</th>\n",
       "      <td>Underground Tunnels of Los Angeles</td>\n",
       "      <td>4</td>\n",
       "      <td>1094</td>\n",
       "      <td>607</td>\n",
       "      <td>6046</td>\n",
       "      <td>5439</td>\n",
       "      <td>9.960461</td>\n",
       "    </tr>\n",
       "    <tr>\n",
       "      <th>404</th>\n",
       "      <td>Catacombes de Paris</td>\n",
       "      <td>5</td>\n",
       "      <td>13</td>\n",
       "      <td>3659</td>\n",
       "      <td>5858</td>\n",
       "      <td>2199</td>\n",
       "      <td>1.600984</td>\n",
       "    </tr>\n",
       "    <tr>\n",
       "      <th>17458</th>\n",
       "      <td>Leadenhall Market</td>\n",
       "      <td>6</td>\n",
       "      <td>60</td>\n",
       "      <td>2479</td>\n",
       "      <td>5786</td>\n",
       "      <td>3307</td>\n",
       "      <td>2.334006</td>\n",
       "    </tr>\n",
       "    <tr>\n",
       "      <th>166</th>\n",
       "      <td>The Evolution Store</td>\n",
       "      <td>7</td>\n",
       "      <td>137</td>\n",
       "      <td>1823</td>\n",
       "      <td>5767</td>\n",
       "      <td>3944</td>\n",
       "      <td>3.163467</td>\n",
       "    </tr>\n",
       "    <tr>\n",
       "      <th>19170</th>\n",
       "      <td>Magowan's Infinite Mirror Maze</td>\n",
       "      <td>8</td>\n",
       "      <td>887</td>\n",
       "      <td>694</td>\n",
       "      <td>5468</td>\n",
       "      <td>4774</td>\n",
       "      <td>7.878963</td>\n",
       "    </tr>\n",
       "    <tr>\n",
       "      <th>4335</th>\n",
       "      <td>Secret Tiled Staircase</td>\n",
       "      <td>9</td>\n",
       "      <td>166</td>\n",
       "      <td>1668</td>\n",
       "      <td>5439</td>\n",
       "      <td>3771</td>\n",
       "      <td>3.260791</td>\n",
       "    </tr>\n",
       "    <tr>\n",
       "      <th>1173</th>\n",
       "      <td>Dream House</td>\n",
       "      <td>10</td>\n",
       "      <td>1158</td>\n",
       "      <td>589</td>\n",
       "      <td>5135</td>\n",
       "      <td>4546</td>\n",
       "      <td>8.718166</td>\n",
       "    </tr>\n",
       "  </tbody>\n",
       "</table>\n",
       "</div>"
      ],
      "text/plain": [
       "                              destinacija  priljubljenost  obiskanost  \\\n",
       "id                                                                      \n",
       "1212                    City Hall Station               1         221   \n",
       "1230                    Highgate Cemetery               2          90   \n",
       "252                        The Wave Organ               3         112   \n",
       "4334   Underground Tunnels of Los Angeles               4        1094   \n",
       "404                   Catacombes de Paris               5          13   \n",
       "17458                   Leadenhall Market               6          60   \n",
       "166                   The Evolution Store               7         137   \n",
       "19170      Magowan's Infinite Mirror Maze               8         887   \n",
       "4335               Secret Tiled Staircase               9         166   \n",
       "1173                          Dream House              10        1158   \n",
       "\n",
       "       obiskali  zelijo  razlike  razmerja  \n",
       "id                                          \n",
       "1212       1465    7149     5684  4.879863  \n",
       "1230       2129    6691     4562  3.142790  \n",
       "252        2011    6393     4382  3.179015  \n",
       "4334        607    6046     5439  9.960461  \n",
       "404        3659    5858     2199  1.600984  \n",
       "17458      2479    5786     3307  2.334006  \n",
       "166        1823    5767     3944  3.163467  \n",
       "19170       694    5468     4774  7.878963  \n",
       "4335       1668    5439     3771  3.260791  \n",
       "1173        589    5135     4546  8.718166  "
      ]
     },
     "execution_count": 125,
     "metadata": {},
     "output_type": "execute_result"
    }
   ],
   "source": [
    "priljubljenost_z_obiskanostjo = pd.merge(pd.merge(podtabela_priljubljene, podtabela_obiskane, on='id'), glasovi, on='id')\n",
    "\n",
    "priljubljenost_z_obiskanostjo['razlike'] = priljubljenost_z_obiskanostjo.zelijo - priljubljenost_z_obiskanostjo.obiskali\n",
    "\n",
    "priljubljenost_z_obiskanostjo[priljubljenost_z_obiskanostjo.razlike > 0] # 6486\n",
    "priljubljenost_z_obiskanostjo[priljubljenost_z_obiskanostjo.razlike < 0] # 1077\n",
    "priljubljenost_z_obiskanostjo[priljubljenost_z_obiskanostjo.razlike == 0] # 4\n",
    "\n",
    "priljubljenost_z_obiskanostjo['razmerja'] = priljubljenost_z_obiskanostjo.zelijo / priljubljenost_z_obiskanostjo.obiskali # (obiskali) : (zelijo)\n",
    "\n",
    "priljubljenost_z_obiskanostjo.head(10)"
   ]
  },
  {
   "cell_type": "code",
   "execution_count": 149,
   "metadata": {},
   "outputs": [
    {
     "data": {
      "text/plain": [
       "<AxesSubplot:xlabel='Priljubljenost', ylabel='Razlike'>"
      ]
     },
     "execution_count": 149,
     "metadata": {},
     "output_type": "execute_result"
    },
    {
     "data": {
      "image/png": "[encoded data removed]",
      "text/plain": [
       "<Figure size 432x288 with 1 Axes>"
      ]
     },
     "metadata": {
      "needs_background": "light"
     },
     "output_type": "display_data"
    }
   ],
   "source": [
    "priljubljenost_z_obiskanostjo.plot.scatter(x='priljubljenost', y='razlike', color='pink', xlabel='Priljubljenost', ylabel='Razlike')"
   ]
  },
  {
   "cell_type": "code",
   "execution_count": 150,
   "metadata": {},
   "outputs": [
    {
     "data": {
      "text/plain": [
       "<AxesSubplot:xlabel='Priljubljenost', ylabel='Razmerja'>"
      ]
     },
     "execution_count": 150,
     "metadata": {},
     "output_type": "execute_result"
    },
    {
     "data": {
      "image/png": "[encoded data removed]",
      "text/plain": [
       "<Figure size 432x288 with 1 Axes>"
      ]
     },
     "metadata": {
      "needs_background": "light"
     },
     "output_type": "display_data"
    }
   ],
   "source": [
    "priljubljenost_z_obiskanostjo.plot.scatter(x='priljubljenost', y='razmerja', color='pink', xlabel='Priljubljenost', ylabel='Razmerja')"
   ]
  },
  {
   "cell_type": "markdown",
   "metadata": {},
   "source": [
    "### Tipi najbolj priljubjenih destinacij"
   ]
  },
  {
   "cell_type": "markdown",
   "metadata": {},
   "source": [
    "Na koncu nas zanima še, ali obstaja kakšen tip destinacije, ki je še posebej priljubljen (npr. muzeji, pokopališča, ruševine...) in se na seznamu pojavlja občutno pogosteje od ostalih. S tem namenom bomo pod drobnogled vzeli imena priljubljenih destinacij ter njihove kratke opise."
   ]
  },
  {
   "cell_type": "code",
   "execution_count": 144,
   "metadata": {},
   "outputs": [
    {
     "data": {
      "text/html": [
       "<div>\n",
       "<style scoped>\n",
       "    .dataframe tbody tr th:only-of-type {\n",
       "        vertical-align: middle;\n",
       "    }\n",
       "\n",
       "    .dataframe tbody tr th {\n",
       "        vertical-align: top;\n",
       "    }\n",
       "\n",
       "    .dataframe thead th {\n",
       "        text-align: right;\n",
       "    }\n",
       "</style>\n",
       "<table border=\"1\" class=\"dataframe\">\n",
       "  <thead>\n",
       "    <tr style=\"text-align: right;\">\n",
       "      <th></th>\n",
       "      <th>destinacija</th>\n",
       "      <th>opis</th>\n",
       "      <th>priljubljenost</th>\n",
       "    </tr>\n",
       "    <tr>\n",
       "      <th>id</th>\n",
       "      <th></th>\n",
       "      <th></th>\n",
       "      <th></th>\n",
       "    </tr>\n",
       "  </thead>\n",
       "  <tbody>\n",
       "    <tr>\n",
       "      <th>1212</th>\n",
       "      <td>City Hall Station</td>\n",
       "      <td>A beautiful and abandoned New York subway stat...</td>\n",
       "      <td>1</td>\n",
       "    </tr>\n",
       "    <tr>\n",
       "      <th>1230</th>\n",
       "      <td>Highgate Cemetery</td>\n",
       "      <td>London's creepiest cemetery was once the site ...</td>\n",
       "      <td>2</td>\n",
       "    </tr>\n",
       "    <tr>\n",
       "      <th>252</th>\n",
       "      <td>The Wave Organ</td>\n",
       "      <td>A huge musical instrument played by the ocean.</td>\n",
       "      <td>3</td>\n",
       "    </tr>\n",
       "    <tr>\n",
       "      <th>4334</th>\n",
       "      <td>Underground Tunnels of Los Angeles</td>\n",
       "      <td>During prohibition, corrupt city officials ran...</td>\n",
       "      <td>4</td>\n",
       "    </tr>\n",
       "    <tr>\n",
       "      <th>404</th>\n",
       "      <td>Catacombes de Paris</td>\n",
       "      <td>The Catacombs hold secrets much stranger than ...</td>\n",
       "      <td>5</td>\n",
       "    </tr>\n",
       "    <tr>\n",
       "      <th>...</th>\n",
       "      <td>...</td>\n",
       "      <td>...</td>\n",
       "      <td>...</td>\n",
       "    </tr>\n",
       "    <tr>\n",
       "      <th>24951</th>\n",
       "      <td>Expo '92 Grounds</td>\n",
       "      <td>An eerie collection of the surviving structure...</td>\n",
       "      <td>10004</td>\n",
       "    </tr>\n",
       "    <tr>\n",
       "      <th>24568</th>\n",
       "      <td>Wild Bird Fund</td>\n",
       "      <td>New York City's only wildlife rehabilitation c...</td>\n",
       "      <td>10005</td>\n",
       "    </tr>\n",
       "    <tr>\n",
       "      <th>19852</th>\n",
       "      <td>Sheldon Peck Homestead</td>\n",
       "      <td>People escaping slavery passed through the old...</td>\n",
       "      <td>10006</td>\n",
       "    </tr>\n",
       "    <tr>\n",
       "      <th>24047</th>\n",
       "      <td>Soviet Dacha</td>\n",
       "      <td>This frozen-in-time summer home outside Moscow...</td>\n",
       "      <td>10007</td>\n",
       "    </tr>\n",
       "    <tr>\n",
       "      <th>23071</th>\n",
       "      <td>Sam Maloof House</td>\n",
       "      <td>A living museum dedicated to the legendary woo...</td>\n",
       "      <td>10008</td>\n",
       "    </tr>\n",
       "  </tbody>\n",
       "</table>\n",
       "<p>10008 rows × 3 columns</p>\n",
       "</div>"
      ],
      "text/plain": [
       "                              destinacija  \\\n",
       "id                                          \n",
       "1212                    City Hall Station   \n",
       "1230                    Highgate Cemetery   \n",
       "252                        The Wave Organ   \n",
       "4334   Underground Tunnels of Los Angeles   \n",
       "404                   Catacombes de Paris   \n",
       "...                                   ...   \n",
       "24951                    Expo '92 Grounds   \n",
       "24568                      Wild Bird Fund   \n",
       "19852              Sheldon Peck Homestead   \n",
       "24047                        Soviet Dacha   \n",
       "23071                    Sam Maloof House   \n",
       "\n",
       "                                                    opis  priljubljenost  \n",
       "id                                                                        \n",
       "1212   A beautiful and abandoned New York subway stat...               1  \n",
       "1230   London's creepiest cemetery was once the site ...               2  \n",
       "252       A huge musical instrument played by the ocean.               3  \n",
       "4334   During prohibition, corrupt city officials ran...               4  \n",
       "404    The Catacombs hold secrets much stranger than ...               5  \n",
       "...                                                  ...             ...  \n",
       "24951  An eerie collection of the surviving structure...           10004  \n",
       "24568  New York City's only wildlife rehabilitation c...           10005  \n",
       "19852  People escaping slavery passed through the old...           10006  \n",
       "24047  This frozen-in-time summer home outside Moscow...           10007  \n",
       "23071  A living museum dedicated to the legendary woo...           10008  \n",
       "\n",
       "[10008 rows x 3 columns]"
      ]
     },
     "execution_count": 144,
     "metadata": {},
     "output_type": "execute_result"
    }
   ],
   "source": [
    "tipi = priljubljene[['destinacija', 'opis', 'priljubljenost']]\n",
    "\n",
    "tipi"
   ]
  },
  {
   "cell_type": "markdown",
   "metadata": {},
   "source": [
    "Do posameznih tipov najlažje pridemo, če najprej v imenih, potem pa še v opisih destinacij poiščemo besede, ki se največkrat ponavljajo. Ker je naš cilj poiskati najpogostejše samostalnike in pridevnike, bomo spustili besede s tremi črkami ali manj izpustili (v izogib ponavljajočim besedam kot so \"a\", \"the\", \"and\", \"is\", \"was\"...)."
   ]
  },
  {
   "cell_type": "code",
   "execution_count": 218,
   "metadata": {},
   "outputs": [
    {
     "name": "stderr",
     "output_type": "stream",
     "text": [
      "/var/folders/h7/n4phsqmd0c33sh93vrzrkqzh0000gn/T/ipykernel_65873/750909864.py:2: DeprecationWarning: The default dtype for empty Series will be 'object' instead of 'float64' in a future version. Specify a dtype explicitly to silence this warning.\n",
      "  return pd.Series(\n"
     ]
    }
   ],
   "source": [
    "def loci_besede(niz):\n",
    "    return pd.Series(\n",
    "        sorted(\n",
    "            {beseda for beseda in niz.replace(',', '').replace('.', '').replace('\"', '').lower().split() if len(beseda) > 3}\n",
    "            ))\n",
    "\n",
    "besede_v_imenih = tipi.destinacija.apply(loci_besede)\n",
    "besede_v_opisih = tipi.opis.apply(loci_besede)"
   ]
  },
  {
   "cell_type": "code",
   "execution_count": 253,
   "metadata": {},
   "outputs": [
    {
     "data": {
      "text/plain": [
       "value\n",
       "museum      822\n",
       "house       329\n",
       "park        303\n",
       "cemetery    159\n",
       "castle      149\n",
       "           ... \n",
       "center       92\n",
       "city         92\n",
       "monument     90\n",
       "cave         85\n",
       "grave        85\n",
       "Length: 20, dtype: int64"
      ]
     },
     "execution_count": 253,
     "metadata": {},
     "output_type": "execute_result"
    }
   ],
   "source": [
    "imena = pd.melt(besede_v_imenih).dropna()\n",
    "imena = imena.drop(columns='variable')\n",
    "po_imenih = imena.groupby('value').size().sort_values(ascending=False).head(20)\n",
    "po_imenih"
   ]
  },
  {
   "cell_type": "code",
   "execution_count": 273,
   "metadata": {},
   "outputs": [
    {
     "data": {
      "text/plain": [
       "Text(0.5, 1.0, 'Število ponovitev najpogostejših besed v imenih destinacij')"
      ]
     },
     "execution_count": 273,
     "metadata": {},
     "output_type": "execute_result"
    },
    {
     "data": {
      "image/png": "[encoded data removed]",
      "text/plain": [
       "<Figure size 432x288 with 1 Axes>"
      ]
     },
     "metadata": {
      "needs_background": "light"
     },
     "output_type": "display_data"
    }
   ],
   "source": [
    "po_imenih.plot.barh(xlabel = '', color='pink').set_title('Število ponovitev najpogostejših besed v imenih destinacij')"
   ]
  },
  {
   "cell_type": "code",
   "execution_count": 265,
   "metadata": {},
   "outputs": [
    {
     "data": {
      "text/plain": [
       "value\n",
       "museum       552\n",
       "home         433\n",
       "largest      407\n",
       "abandoned    396\n",
       "once         391\n",
       "            ... \n",
       "been         282\n",
       "only         280\n",
       "over         276\n",
       "oldest       270\n",
       "city         260\n",
       "Length: 20, dtype: int64"
      ]
     },
     "execution_count": 265,
     "metadata": {},
     "output_type": "execute_result"
    }
   ],
   "source": [
    "opisi = pd.melt(besede_v_opisih).dropna()\n",
    "opisi = opisi.drop(columns='variable')\n",
    "opisi = opisi[(opisi.value != 'this') & (opisi.value != 'with') & (opisi.value != 'that') & (opisi.value != 'from') & (opisi.value != 'where')]\n",
    "po_opisih = opisi.groupby('value').size().sort_values(ascending=False).head(20)\n",
    "po_opisih"
   ]
  },
  {
   "cell_type": "code",
   "execution_count": 274,
   "metadata": {},
   "outputs": [
    {
     "data": {
      "text/plain": [
       "Text(0.5, 1.0, 'Število ponovitev najpogostejših besed v opisih destinacij')"
      ]
     },
     "execution_count": 274,
     "metadata": {},
     "output_type": "execute_result"
    },
    {
     "data": {
      "image/png": "[encoded data removed]",
      "text/plain": [
       "<Figure size 432x288 with 1 Axes>"
      ]
     },
     "metadata": {
      "needs_background": "light"
     },
     "output_type": "display_data"
    }
   ],
   "source": [
    "po_opisih.plot.barh(xlabel = '', color='lightblue').set_title('Število ponovitev najpogostejših besed v opisih destinacij')"
   ]
  },
  {
   "cell_type": "code",
   "execution_count": 282,
   "metadata": {},
   "outputs": [
    {
     "data": {
      "text/plain": [
       "Text(0.5, 1.0, 'Število ponovitev najpogostejših besed v imenih in opisih destinacij')"
      ]
     },
     "execution_count": 282,
     "metadata": {},
     "output_type": "execute_result"
    },
    {
     "data": {
      "image/png": "[encoded data removed]",
      "text/plain": [
       "<Figure size 432x288 with 1 Axes>"
      ]
     },
     "metadata": {
      "needs_background": "light"
     },
     "output_type": "display_data"
    }
   ],
   "source": [
    "skupaj = pd.concat([imena, opisi])\n",
    "\n",
    "po_besedah = skupaj.groupby('value').size().sort_values(ascending=False).head(20)\n",
    "\n",
    "po_besedah.plot.barh(xlabel = '', color='purple').set_title('Število ponovitev najpogostejših besed v imenih in opisih destinacij')"
   ]
  }
 ],
 "metadata": {
  "kernelspec": {
   "display_name": "Python 3",
   "language": "python",
   "name": "python3"
  },
  "language_info": {
   "codemirror_mode": {
    "name": "ipython",
    "version": 3
   },
   "file_extension": ".py",
   "mimetype": "text/x-python",
   "name": "python",
   "nbconvert_exporter": "python",
   "pygments_lexer": "ipython3",
   "version": "3.8.1"
  }
 },
 "nbformat": 4,
 "nbformat_minor": 2
}
